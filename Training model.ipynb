{
 "cells": [
  {
   "cell_type": "code",
   "execution_count": 1,
   "id": "7dd4d2fe-6f4e-48a0-8f4c-93e4371d5f9c",
   "metadata": {},
   "outputs": [],
   "source": [
    "import pandas as pd\n",
    "import matplotlib.pyplot as plt\n",
    "import seaborn as sns\n",
    "import numpy as np\n",
    "import sklearn as sk\n",
    "import xgboost as xgb\n",
    "\n",
    "from sklearn.model_selection import train_test_split\n",
    "from sklearn.preprocessing import StandardScaler\n",
    "from sklearn.linear_model import LinearRegression, Ridge\n",
    "from sklearn.metrics import mean_absolute_error\n",
    "from sklearn import linear_model\n",
    "from sklearn.ensemble import RandomForestRegressor\n",
    "from sklearn.datasets import make_regression\n",
    "from sklearn.model_selection import KFold, cross_val_score, GridSearchCV\n",
    "from xgboost import XGBRegressor, plot_importance"
   ]
  },
  {
   "cell_type": "code",
   "execution_count": 2,
   "id": "714e0200-358b-4261-a35c-426f25372954",
   "metadata": {},
   "outputs": [],
   "source": [
    "#load Dataset\n",
    "df = pd.read_csv('/Users/User/Desktop/PUBG_match_data.csv')"
   ]
  },
  {
   "cell_type": "code",
   "execution_count": 3,
   "id": "d588842d-e2c9-4104-a276-761f963cd274",
   "metadata": {},
   "outputs": [],
   "source": [
    "df = df.drop(df[df['kills'] > 7].index)\n",
    "df = df.drop(df[df['heals'] > 12].index)\n",
    "df = df.drop(df[df['boosts'] > 7].index)\n",
    "df = df.drop(df[df['walkDistance'] > 4396].index)\n",
    "df = df.drop(df[df['swimDistance'] > 123].index)\n",
    "df = df.drop(df[df['rideDistance'] > 6966].index)\n",
    "df = df.drop(df[df['winPlacePerc'].isna()].index)\n",
    "df['healsandboosts'] = df['heals'] + df['boosts']"
   ]
  },
  {
   "cell_type": "code",
   "execution_count": 4,
   "id": "e37e611e-bcf1-418a-8d0c-5bc6376eb79d",
   "metadata": {
    "tags": []
   },
   "outputs": [],
   "source": [
    "def create_group_stats(df, col):\n",
    "\n",
    "    group_stats = df.groupby('groupId')[col].agg(['max', 'min', 'mean']).reset_index()\n",
    "    group_stats = group_stats.rename({'max': f'{col}_max', 'min': f'{col}_min', 'mean': f'{col}_mean'}, axis=1)\n",
    "    df = pd.merge(df, group_stats, on='groupId')\n",
    "\n",
    "    return df"
   ]
  },
  {
   "cell_type": "code",
   "execution_count": 5,
   "id": "34b244e2-9fa2-42a8-9613-5d907cbec691",
   "metadata": {},
   "outputs": [],
   "source": [
    "col_list = ['kills', 'assists', 'healsandboosts', 'walkDistance', 'swimDistance', 'rideDistance','damageDealt', 'weaponsAcquired']\n",
    "for col in col_list:\n",
    "    \n",
    "    df = create_group_stats(df, col)"
   ]
  },
  {
   "cell_type": "code",
   "execution_count": 6,
   "id": "9b20f721-6122-4360-bef6-1fb303d8297d",
   "metadata": {},
   "outputs": [],
   "source": [
    "#Train_test_split dataset\n",
    "target = 'winPlacePerc'\n",
    "drop_col = ['winPlacePerc','Id','matchType','heals','boosts','kills','damageDealt','maxPlace','matchDuration', 'assists', 'healsandboosts', 'walkDistance', 'swimDistance', 'rideDistance', 'weaponsAcquired','groupId','matchId']\n",
    "y = df[target]\n",
    "X = df.drop(columns = drop_col)\n",
    "train_X, test_X, train_y, test_y = train_test_split(X, y, test_size=0.2, shuffle = True)"
   ]
  },
  {
   "cell_type": "code",
   "execution_count": 7,
   "id": "05d81310-b99a-42df-84be-8481341e3bec",
   "metadata": {},
   "outputs": [
    {
     "data": {
      "text/plain": [
       "(3381080, 37)"
      ]
     },
     "execution_count": 7,
     "metadata": {},
     "output_type": "execute_result"
    }
   ],
   "source": [
    "train_X.shape"
   ]
  },
  {
   "cell_type": "code",
   "execution_count": 8,
   "id": "8aff2453-0c53-4b9b-9287-944f71dc13e4",
   "metadata": {},
   "outputs": [],
   "source": [
    "#Standard_Scaler\n",
    "scaler = StandardScaler().fit(train_X)\n",
    "train_X = scaler.transform(train_X)"
   ]
  },
  {
   "cell_type": "code",
   "execution_count": 9,
   "id": "2d22f657-35f1-4259-822d-a94bfdf8258f",
   "metadata": {},
   "outputs": [],
   "source": [
    "kfold = KFold(n_splits = 10)"
   ]
  },
  {
   "cell_type": "code",
   "execution_count": 10,
   "id": "2aab77c8-f175-437d-8413-4dd00b3d2ffb",
   "metadata": {},
   "outputs": [
    {
     "name": "stderr",
     "output_type": "stream",
     "text": [
      "C:\\Users\\User\\anaconda3\\lib\\site-packages\\seaborn\\_decorators.py:36: FutureWarning: Pass the following variables as keyword args: x, y. From version 0.12, the only valid positional argument will be `data`, and passing other arguments without an explicit keyword will result in an error or misinterpretation.\n",
      "  warnings.warn(\n"
     ]
    },
    {
     "data": {
      "image/png": "[encoded data removed]",
      "text/plain": [
       "<Figure size 1440x720 with 1 Axes>"
      ]
     },
     "metadata": {
      "needs_background": "light"
     },
     "output_type": "display_data"
    }
   ],
   "source": [
    "regressors = []\n",
    "regressors.append(LinearRegression())\n",
    "regressors.append(linear_model.Lasso())\n",
    "regressors.append (Ridge())\n",
    "regressors.append(linear_model.PoissonRegressor())\n",
    "regressors.append(XGBRegressor())\n",
    "\n",
    "# regressors.append(RandomForestRegressor())\n",
    "\n",
    "cv_results = []\n",
    "for regressor in regressors :\n",
    "    X = train_X\n",
    "    y = train_y\n",
    "    cv_results.append(cross_val_score(regressor, X, y, scoring = 'neg_mean_absolute_error'))\n",
    "\n",
    "cv_means = []\n",
    "cv_std = []\n",
    "\n",
    "for cv_result in cv_results:\n",
    "    cv_means.append(cv_result.mean())\n",
    "    cv_std.append(cv_result.std())\n",
    "\n",
    "cv_res = pd.DataFrame({\"CrossValMeans\": cv_means, \"CrossValerrors\": cv_std, \"Algorithm\": [\"LinearRegression\", \"Lasso\", \"Ridge\", \"PoissonRegression\", \"XGBoost\"]})\n",
    "\n",
    "plt.figure(figsize=(20, 10))\n",
    "plot = sns.barplot(\"CrossValMeans\", \"Algorithm\", data = cv_res, palette = \"Set3\", **{'xerr': cv_std})\n",
    "plot.set_xlabel(\"Mean Accuracy\")\n",
    "plot = plot.set_title(\"Cross Validation Scores\")"
   ]
  },
  {
   "cell_type": "code",
   "execution_count": 11,
   "id": "7872ca2b-687a-4ca9-8df0-682075f4a575",
   "metadata": {},
   "outputs": [
    {
     "data": {
      "text/html": [
       "<div>\n",
       "<style scoped>\n",
       "    .dataframe tbody tr th:only-of-type {\n",
       "        vertical-align: middle;\n",
       "    }\n",
       "\n",
       "    .dataframe tbody tr th {\n",
       "        vertical-align: top;\n",
       "    }\n",
       "\n",
       "    .dataframe thead th {\n",
       "        text-align: right;\n",
       "    }\n",
       "</style>\n",
       "<table border=\"1\" class=\"dataframe\">\n",
       "  <thead>\n",
       "    <tr style=\"text-align: right;\">\n",
       "      <th></th>\n",
       "      <th>CrossValMeans</th>\n",
       "      <th>CrossValerrors</th>\n",
       "      <th>Algorithm</th>\n",
       "    </tr>\n",
       "  </thead>\n",
       "  <tbody>\n",
       "    <tr>\n",
       "      <th>0</th>\n",
       "      <td>-0.085075</td>\n",
       "      <td>0.000101</td>\n",
       "      <td>LinearRegression</td>\n",
       "    </tr>\n",
       "    <tr>\n",
       "      <th>1</th>\n",
       "      <td>-0.261216</td>\n",
       "      <td>0.000191</td>\n",
       "      <td>Lasso</td>\n",
       "    </tr>\n",
       "    <tr>\n",
       "      <th>2</th>\n",
       "      <td>-0.085075</td>\n",
       "      <td>0.000101</td>\n",
       "      <td>Ridge</td>\n",
       "    </tr>\n",
       "    <tr>\n",
       "      <th>3</th>\n",
       "      <td>-0.143406</td>\n",
       "      <td>0.000752</td>\n",
       "      <td>PoissonRegression</td>\n",
       "    </tr>\n",
       "    <tr>\n",
       "      <th>4</th>\n",
       "      <td>-0.057411</td>\n",
       "      <td>0.000035</td>\n",
       "      <td>XGBoost</td>\n",
       "    </tr>\n",
       "  </tbody>\n",
       "</table>\n",
       "</div>"
      ],
      "text/plain": [
       "   CrossValMeans  CrossValerrors          Algorithm\n",
       "0      -0.085075        0.000101   LinearRegression\n",
       "1      -0.261216        0.000191              Lasso\n",
       "2      -0.085075        0.000101              Ridge\n",
       "3      -0.143406        0.000752  PoissonRegression\n",
       "4      -0.057411        0.000035            XGBoost"
      ]
     },
     "execution_count": 11,
     "metadata": {},
     "output_type": "execute_result"
    }
   ],
   "source": [
    "cv_res"
   ]
  },
  {
   "cell_type": "code",
   "execution_count": 12,
   "id": "21b5f6b5-8d1f-49d5-a931-ca08d4591665",
   "metadata": {},
   "outputs": [
    {
     "name": "stdout",
     "output_type": "stream",
     "text": [
      "Fitting 5 folds for each of 4 candidates, totalling 20 fits\n"
     ]
    },
    {
     "data": {
      "text/plain": [
       "-0.08507489574465481"
      ]
     },
     "execution_count": 12,
     "metadata": {},
     "output_type": "execute_result"
    }
   ],
   "source": [
    "LNC = LinearRegression()\n",
    "lr_param_grid = {\"fit_intercept\": [\"True\", \"False\"], \"copy_X\":[\"True\", \"False\"]}\n",
    "\n",
    "gsLNC = GridSearchCV(LNC, param_grid = lr_param_grid, scoring = 'neg_mean_absolute_error', verbose = 1)\n",
    "\n",
    "gsLNC.fit(X,y)\n",
    "\n",
    "LNC_best = gsLNC.best_estimator_\n",
    "\n",
    "gsLNC.best_score_"
   ]
  },
  {
   "cell_type": "code",
   "execution_count": 13,
   "id": "229fd866-c556-4ac9-8a53-5bf53c2c651b",
   "metadata": {},
   "outputs": [
    {
     "name": "stdout",
     "output_type": "stream",
     "text": [
      "Fitting 5 folds for each of 12 candidates, totalling 60 fits\n"
     ]
    },
    {
     "data": {
      "text/plain": [
       "-0.1494355708507094"
      ]
     },
     "execution_count": 13,
     "metadata": {},
     "output_type": "execute_result"
    }
   ],
   "source": [
    "LSO = linear_model.Lasso()\n",
    "lr_param_grid = {\"alpha\": [0.1, 0.5, 1], \"fit_intercept\": [True, False], \"copy_X\":[True, False]} \n",
    "\n",
    "gsLSO = GridSearchCV(LSO, param_grid = lr_param_grid, scoring = 'neg_mean_absolute_error', verbose = 1)\n",
    "\n",
    "gsLSO.fit(X,y)\n",
    "\n",
    "LSO_best = gsLSO.best_estimator_\n",
    "\n",
    "gsLSO.best_score_"
   ]
  },
  {
   "cell_type": "code",
   "execution_count": 14,
   "id": "108c98e8-917a-4304-83da-836686515d30",
   "metadata": {},
   "outputs": [
    {
     "name": "stdout",
     "output_type": "stream",
     "text": [
      "Fitting 5 folds for each of 12 candidates, totalling 60 fits\n"
     ]
    },
    {
     "data": {
      "text/plain": [
       "-0.08507489620658203"
      ]
     },
     "execution_count": 14,
     "metadata": {},
     "output_type": "execute_result"
    }
   ],
   "source": [
    "RGE = Ridge()\n",
    "lr_param_grid = {\"alpha\": [0.1, 0.5, 1], \"fit_intercept\": [True, False], \"copy_X\":[True, False]} \n",
    "\n",
    "gsRGE = GridSearchCV(RGE, param_grid = lr_param_grid, scoring = 'neg_mean_absolute_error', verbose = 1)\n",
    "\n",
    "gsRGE.fit(X,y)\n",
    "\n",
    "RGE_best = gsRGE.best_estimator_\n",
    "\n",
    "gsRGE.best_score_"
   ]
  },
  {
   "cell_type": "code",
   "execution_count": 15,
   "id": "3e61004c-7755-47ea-b5cd-8ed126b11053",
   "metadata": {},
   "outputs": [
    {
     "name": "stdout",
     "output_type": "stream",
     "text": [
      "Fitting 5 folds for each of 6 candidates, totalling 30 fits\n"
     ]
    },
    {
     "data": {
      "text/plain": [
       "-0.1240588330638771"
      ]
     },
     "execution_count": 15,
     "metadata": {},
     "output_type": "execute_result"
    }
   ],
   "source": [
    "POG = linear_model.PoissonRegressor()\n",
    "lr_param_grid = {\"alpha\": [0.1, 0.5, 1], \"fit_intercept\": [True, False]} \n",
    "\n",
    "gsPOG = GridSearchCV(POG, param_grid = lr_param_grid, scoring = 'neg_mean_absolute_error', verbose = 1)\n",
    "\n",
    "gsPOG.fit(X,y)\n",
    "\n",
    "POG_best = gsPOG.best_estimator_\n",
    "\n",
    "gsPOG.best_score_"
   ]
  },
  {
   "cell_type": "code",
   "execution_count": null,
   "id": "9b9265fb-8640-4968-b10f-fad190cb7b21",
   "metadata": {},
   "outputs": [],
   "source": [
    "XGBR = XGBRegressor()\n",
    "XGBR_param_grid = {\"booster\": [\"gbtree\", \"gblinear\", \"dart\"], \"max_depth\": [3, 6, 9] } \n",
    "\n",
    "gsXGBR = GridSearchCV(XGBR, param_grid = XGBR_param_grid, scoring = 'neg_mean_absolute_error', verbose = 1)\n",
    "\n",
    "gsXGBR.fit(X,y)\n",
    "\n",
    "XGBR_best = gsXGBR.best_estimator_\n",
    "\n",
    "gsXGBR.best_score_"
   ]
  },
  {
   "cell_type": "code",
   "execution_count": null,
   "id": "9cfb5fd1-051c-4ef7-ba35-659205d816c1",
   "metadata": {},
   "outputs": [],
   "source": [
    "plot_importance(XGBR_best)\n",
    "plt.show()"
   ]
  },
  {
   "cell_type": "code",
   "execution_count": null,
   "id": "6dfba3b5-ed24-44d5-bb11-494f821d0e4e",
   "metadata": {
    "scrolled": true,
    "tags": []
   },
   "outputs": [],
   "source": [
    "importance = XGBR_best.get_booster().get_score(importance_type = 'weight')\n",
    "key_list = list(test_X.columns)\n",
    "value_list = list(importance.values())\n",
    "importance_df = pd.DataFrame(value_list, index=key_list, columns=['weight']).sort_values(by='weight', ascending=False)\n",
    "importance_df"
   ]
  },
  {
   "cell_type": "code",
   "execution_count": null,
   "id": "dbb240b4-9855-46b4-81d0-ddf1669081e7",
   "metadata": {},
   "outputs": [],
   "source": [
    "plt.figure(figsize = (40,20))\n",
    "plt.barh(importance_df.index, importance_df['weight'])"
   ]
  },
  {
   "cell_type": "code",
   "execution_count": null,
   "id": "b81fb20a-afb6-49b4-bb4b-a42ff9428f70",
   "metadata": {},
   "outputs": [],
   "source": []
  }
 ],
 "metadata": {
  "kernelspec": {
   "display_name": "Python 3 (ipykernel)",
   "language": "python",
   "name": "python3"
  },
  "language_info": {
   "codemirror_mode": {
    "name": "ipython",
    "version": 3
   },
   "file_extension": ".py",
   "mimetype": "text/x-python",
   "name": "python",
   "nbconvert_exporter": "python",
   "pygments_lexer": "ipython3",
   "version": "3.9.12"
  }
 },
 "nbformat": 4,
 "nbformat_minor": 5
}
